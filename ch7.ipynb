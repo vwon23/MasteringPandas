{
 "cells": [
  {
   "cell_type": "code",
   "execution_count": 1,
   "metadata": {
    "collapsed": true
   },
   "outputs": [],
   "source": [
    "import scipy.stats as stats\n",
    "import pandas as pd\n",
    "import numpy as np"
   ]
  },
  {
   "cell_type": "code",
   "execution_count": 2,
   "metadata": {},
   "outputs": [
    {
     "data": {
      "text/html": [
       "<div>\n",
       "<style>\n",
       "    .dataframe thead tr:only-child th {\n",
       "        text-align: right;\n",
       "    }\n",
       "\n",
       "    .dataframe thead th {\n",
       "        text-align: left;\n",
       "    }\n",
       "\n",
       "    .dataframe tbody tr th {\n",
       "        vertical-align: top;\n",
       "    }\n",
       "</style>\n",
       "<table border=\"1\" class=\"dataframe\">\n",
       "  <thead>\n",
       "    <tr style=\"text-align: right;\">\n",
       "      <th></th>\n",
       "      <th>Model Year</th>\n",
       "      <th>Mfr Name</th>\n",
       "      <th>Division</th>\n",
       "      <th>Carline</th>\n",
       "      <th>Verify Mfr Cd</th>\n",
       "      <th>Index (Model Type Index)</th>\n",
       "      <th>Eng Displ</th>\n",
       "      <th># Cyl</th>\n",
       "      <th>Trans as listed in FE Guide (derived from col AA thru AF)</th>\n",
       "      <th>City FE (Guide) - Conventional Fuel</th>\n",
       "      <th>...</th>\n",
       "      <th>City CO2 Rounded Adjusted</th>\n",
       "      <th>Hwy CO2 Rounded Adjusted</th>\n",
       "      <th>Comb CO2 Rounded Adjusted (as shown on FE Label)</th>\n",
       "      <th>CO2-PHEV Composite Rounded Adjusted Combined CO2</th>\n",
       "      <th>240V Charge Time at 240 volts (hours)</th>\n",
       "      <th>120V Charge time at 120 Volts (hours)</th>\n",
       "      <th>PHEV Total Driving Range (rounded to nearest 10 miles)DISTANCE</th>\n",
       "      <th>City PHEV Composite MPGe</th>\n",
       "      <th>Hwy PHEV Composite MPGe</th>\n",
       "      <th>Comb PHEV Composite MPGe</th>\n",
       "    </tr>\n",
       "  </thead>\n",
       "  <tbody>\n",
       "    <tr>\n",
       "      <th>0</th>\n",
       "      <td>2014.0</td>\n",
       "      <td>aston martin</td>\n",
       "      <td>Aston Martin Lagonda Ltd</td>\n",
       "      <td>V8 Vantage</td>\n",
       "      <td>ASX</td>\n",
       "      <td>2</td>\n",
       "      <td>4.7</td>\n",
       "      <td>8</td>\n",
       "      <td>Auto(AM7)</td>\n",
       "      <td>14</td>\n",
       "      <td>...</td>\n",
       "      <td>654</td>\n",
       "      <td>426</td>\n",
       "      <td>551</td>\n",
       "      <td>NaN</td>\n",
       "      <td>NaN</td>\n",
       "      <td>NaN</td>\n",
       "      <td>NaN</td>\n",
       "      <td>NaN</td>\n",
       "      <td>NaN</td>\n",
       "      <td>NaN</td>\n",
       "    </tr>\n",
       "    <tr>\n",
       "      <th>1</th>\n",
       "      <td>2014.0</td>\n",
       "      <td>aston martin</td>\n",
       "      <td>Aston Martin Lagonda Ltd</td>\n",
       "      <td>V8 Vantage</td>\n",
       "      <td>ASX</td>\n",
       "      <td>1</td>\n",
       "      <td>4.7</td>\n",
       "      <td>8</td>\n",
       "      <td>Manual(M6)</td>\n",
       "      <td>13</td>\n",
       "      <td>...</td>\n",
       "      <td>680</td>\n",
       "      <td>461</td>\n",
       "      <td>581</td>\n",
       "      <td>NaN</td>\n",
       "      <td>NaN</td>\n",
       "      <td>NaN</td>\n",
       "      <td>NaN</td>\n",
       "      <td>NaN</td>\n",
       "      <td>NaN</td>\n",
       "      <td>NaN</td>\n",
       "    </tr>\n",
       "    <tr>\n",
       "      <th>2</th>\n",
       "      <td>2014.0</td>\n",
       "      <td>aston martin</td>\n",
       "      <td>Aston Martin Lagonda Ltd</td>\n",
       "      <td>V8 Vantage S</td>\n",
       "      <td>ASX</td>\n",
       "      <td>4</td>\n",
       "      <td>4.7</td>\n",
       "      <td>8</td>\n",
       "      <td>Auto(AM7)</td>\n",
       "      <td>14</td>\n",
       "      <td>...</td>\n",
       "      <td>654</td>\n",
       "      <td>426</td>\n",
       "      <td>551</td>\n",
       "      <td>NaN</td>\n",
       "      <td>NaN</td>\n",
       "      <td>NaN</td>\n",
       "      <td>NaN</td>\n",
       "      <td>NaN</td>\n",
       "      <td>NaN</td>\n",
       "      <td>NaN</td>\n",
       "    </tr>\n",
       "    <tr>\n",
       "      <th>3</th>\n",
       "      <td>2014.0</td>\n",
       "      <td>aston martin</td>\n",
       "      <td>Aston Martin Lagonda Ltd</td>\n",
       "      <td>V8 Vantage S</td>\n",
       "      <td>ASX</td>\n",
       "      <td>3</td>\n",
       "      <td>4.7</td>\n",
       "      <td>8</td>\n",
       "      <td>Manual(M6)</td>\n",
       "      <td>13</td>\n",
       "      <td>...</td>\n",
       "      <td>680</td>\n",
       "      <td>461</td>\n",
       "      <td>581</td>\n",
       "      <td>NaN</td>\n",
       "      <td>NaN</td>\n",
       "      <td>NaN</td>\n",
       "      <td>NaN</td>\n",
       "      <td>NaN</td>\n",
       "      <td>NaN</td>\n",
       "      <td>NaN</td>\n",
       "    </tr>\n",
       "    <tr>\n",
       "      <th>4</th>\n",
       "      <td>2014.0</td>\n",
       "      <td>Audi</td>\n",
       "      <td>Audi</td>\n",
       "      <td>R8</td>\n",
       "      <td>ADX</td>\n",
       "      <td>5</td>\n",
       "      <td>4.2</td>\n",
       "      <td>8</td>\n",
       "      <td>Auto(AM-S7)</td>\n",
       "      <td>14</td>\n",
       "      <td>...</td>\n",
       "      <td>656</td>\n",
       "      <td>394</td>\n",
       "      <td>538</td>\n",
       "      <td>NaN</td>\n",
       "      <td>NaN</td>\n",
       "      <td>NaN</td>\n",
       "      <td>NaN</td>\n",
       "      <td>NaN</td>\n",
       "      <td>NaN</td>\n",
       "      <td>NaN</td>\n",
       "    </tr>\n",
       "  </tbody>\n",
       "</table>\n",
       "<p>5 rows × 162 columns</p>\n",
       "</div>"
      ],
      "text/plain": [
       "   Model Year      Mfr Name                  Division       Carline  \\\n",
       "0      2014.0  aston martin  Aston Martin Lagonda Ltd    V8 Vantage   \n",
       "1      2014.0  aston martin  Aston Martin Lagonda Ltd    V8 Vantage   \n",
       "2      2014.0  aston martin  Aston Martin Lagonda Ltd  V8 Vantage S   \n",
       "3      2014.0  aston martin  Aston Martin Lagonda Ltd  V8 Vantage S   \n",
       "4      2014.0          Audi                      Audi            R8   \n",
       "\n",
       "  Verify Mfr Cd  Index (Model Type Index)  Eng Displ  # Cyl  \\\n",
       "0           ASX                         2        4.7      8   \n",
       "1           ASX                         1        4.7      8   \n",
       "2           ASX                         4        4.7      8   \n",
       "3           ASX                         3        4.7      8   \n",
       "4           ADX                         5        4.2      8   \n",
       "\n",
       "  Trans as listed in FE Guide (derived from col AA thru AF)  \\\n",
       "0                                          Auto(AM7)          \n",
       "1                                         Manual(M6)          \n",
       "2                                          Auto(AM7)          \n",
       "3                                         Manual(M6)          \n",
       "4                                        Auto(AM-S7)          \n",
       "\n",
       "   City FE (Guide) - Conventional Fuel           ...             \\\n",
       "0                                   14           ...              \n",
       "1                                   13           ...              \n",
       "2                                   14           ...              \n",
       "3                                   13           ...              \n",
       "4                                   14           ...              \n",
       "\n",
       "   City CO2 Rounded Adjusted  Hwy CO2 Rounded Adjusted  \\\n",
       "0                        654                       426   \n",
       "1                        680                       461   \n",
       "2                        654                       426   \n",
       "3                        680                       461   \n",
       "4                        656                       394   \n",
       "\n",
       "   Comb CO2 Rounded Adjusted (as shown on FE Label)  \\\n",
       "0                                               551   \n",
       "1                                               581   \n",
       "2                                               551   \n",
       "3                                               581   \n",
       "4                                               538   \n",
       "\n",
       "   CO2-PHEV Composite Rounded Adjusted Combined CO2  \\\n",
       "0                                               NaN   \n",
       "1                                               NaN   \n",
       "2                                               NaN   \n",
       "3                                               NaN   \n",
       "4                                               NaN   \n",
       "\n",
       "   240V Charge Time at 240 volts (hours)  \\\n",
       "0                                    NaN   \n",
       "1                                    NaN   \n",
       "2                                    NaN   \n",
       "3                                    NaN   \n",
       "4                                    NaN   \n",
       "\n",
       "   120V Charge time at 120 Volts (hours)  \\\n",
       "0                                    NaN   \n",
       "1                                    NaN   \n",
       "2                                    NaN   \n",
       "3                                    NaN   \n",
       "4                                    NaN   \n",
       "\n",
       "   PHEV Total Driving Range (rounded to nearest 10 miles)DISTANCE  \\\n",
       "0                                                NaN                \n",
       "1                                                NaN                \n",
       "2                                                NaN                \n",
       "3                                                NaN                \n",
       "4                                                NaN                \n",
       "\n",
       "   City PHEV Composite MPGe Hwy PHEV Composite MPGe Comb PHEV Composite MPGe  \n",
       "0                       NaN                     NaN                      NaN  \n",
       "1                       NaN                     NaN                      NaN  \n",
       "2                       NaN                     NaN                      NaN  \n",
       "3                       NaN                     NaN                      NaN  \n",
       "4                       NaN                     NaN                      NaN  \n",
       "\n",
       "[5 rows x 162 columns]"
      ]
     },
     "execution_count": 2,
     "metadata": {},
     "output_type": "execute_result"
    }
   ],
   "source": [
    "feRawData = pd.read_csv('./Files/2014_FEGuide.csv')\n",
    "feRawData.head()"
   ]
  },
  {
   "cell_type": "code",
   "execution_count": 3,
   "metadata": {
    "collapsed": true
   },
   "outputs": [],
   "source": [
    "transType=feRawData['Trans as listed in FE Guide (derived from col AA thru AF)']"
   ]
  },
  {
   "cell_type": "code",
   "execution_count": 4,
   "metadata": {},
   "outputs": [
    {
     "data": {
      "text/plain": [
       "0      Auto(AM7)\n",
       "1     Manual(M6)\n",
       "2      Auto(AM7)\n",
       "3     Manual(M6)\n",
       "4    Auto(AM-S7)\n",
       "Name: Trans as listed in FE Guide (derived from col AA thru AF), dtype: object"
      ]
     },
     "execution_count": 4,
     "metadata": {},
     "output_type": "execute_result"
    }
   ],
   "source": [
    "transType.head()"
   ]
  },
  {
   "cell_type": "code",
   "execution_count": 5,
   "metadata": {},
   "outputs": [
    {
     "data": {
      "text/plain": [
       "0      Auto\n",
       "1    Manual\n",
       "2      Auto\n",
       "3    Manual\n",
       "4      Auto\n",
       "Name: Trans as listed in FE Guide (derived from col AA thru AF), dtype: object"
      ]
     },
     "execution_count": 5,
     "metadata": {},
     "output_type": "execute_result"
    }
   ],
   "source": [
    "transTypeSeries = transType.str.split('(').str.get(0)\n",
    "transTypeSeries.head()"
   ]
  },
  {
   "cell_type": "code",
   "execution_count": 6,
   "metadata": {
    "scrolled": true
   },
   "outputs": [
    {
     "data": {
      "text/html": [
       "<div>\n",
       "<style>\n",
       "    .dataframe thead tr:only-child th {\n",
       "        text-align: right;\n",
       "    }\n",
       "\n",
       "    .dataframe thead th {\n",
       "        text-align: left;\n",
       "    }\n",
       "\n",
       "    .dataframe tbody tr th {\n",
       "        vertical-align: top;\n",
       "    }\n",
       "</style>\n",
       "<table border=\"1\" class=\"dataframe\">\n",
       "  <thead>\n",
       "    <tr style=\"text-align: right;\">\n",
       "      <th></th>\n",
       "      <th>TransType</th>\n",
       "      <th>MPG</th>\n",
       "    </tr>\n",
       "  </thead>\n",
       "  <tbody>\n",
       "    <tr>\n",
       "      <th>0</th>\n",
       "      <td>Auto</td>\n",
       "      <td>14</td>\n",
       "    </tr>\n",
       "    <tr>\n",
       "      <th>1</th>\n",
       "      <td>Manual</td>\n",
       "      <td>13</td>\n",
       "    </tr>\n",
       "    <tr>\n",
       "      <th>2</th>\n",
       "      <td>Auto</td>\n",
       "      <td>14</td>\n",
       "    </tr>\n",
       "    <tr>\n",
       "      <th>3</th>\n",
       "      <td>Manual</td>\n",
       "      <td>13</td>\n",
       "    </tr>\n",
       "    <tr>\n",
       "      <th>4</th>\n",
       "      <td>Auto</td>\n",
       "      <td>14</td>\n",
       "    </tr>\n",
       "  </tbody>\n",
       "</table>\n",
       "</div>"
      ],
      "text/plain": [
       "  TransType MPG\n",
       "0      Auto  14\n",
       "1    Manual  13\n",
       "2      Auto  14\n",
       "3    Manual  13\n",
       "4      Auto  14"
      ]
     },
     "execution_count": 6,
     "metadata": {},
     "output_type": "execute_result"
    }
   ],
   "source": [
    "FeData = pd.DataFrame( [transTypeSeries, feRawData['City FE (Guide) - Conventional Fuel']]).T\n",
    "FeData.rename( inplace=True,columns={'City FE (Guide) - Conventional Fuel':'MPG',\n",
    "                      'Trans as listed in FE Guide (derived from col AA thru AF)':'TransType'})\n",
    "\n",
    "FeData.head()"
   ]
  },
  {
   "cell_type": "code",
   "execution_count": 7,
   "metadata": {
    "collapsed": true
   },
   "outputs": [],
   "source": [
    "FeData_auto = FeData[FeData['TransType']=='Auto']\n",
    "FeData_manual = FeData[FeData['TransType']=='Manual']"
   ]
  },
  {
   "cell_type": "code",
   "execution_count": 8,
   "metadata": {},
   "outputs": [
    {
     "data": {
      "text/plain": [
       "(19.483282674772038, 21.985781990521328)"
      ]
     },
     "execution_count": 8,
     "metadata": {},
     "output_type": "execute_result"
    }
   ],
   "source": [
    "np.mean(FeData_auto['MPG']), np.mean(FeData_manual['MPG'])"
   ]
  },
  {
   "cell_type": "code",
   "execution_count": 9,
   "metadata": {},
   "outputs": [
    {
     "data": {
      "text/plain": [
       "Ttest_indResult(statistic=-6.4436875447266431, pvalue=3.9430550191913509e-10)"
      ]
     },
     "execution_count": 9,
     "metadata": {},
     "output_type": "execute_result"
    }
   ],
   "source": [
    "import scipy.stats as stats\n",
    "stats.ttest_ind(FeData_auto['MPG'].tolist(), FeData_manual['MPG'].tolist(), equal_var=False)"
   ]
  },
  {
   "cell_type": "code",
   "execution_count": 10,
   "metadata": {},
   "outputs": [
    {
     "name": "stderr",
     "output_type": "stream",
     "text": [
      "C:\\ProgramData\\Anaconda3\\lib\\site-packages\\statsmodels\\compat\\pandas.py:56: FutureWarning: The pandas.core.datetools module is deprecated and will be removed in a future version. Please use the pandas.tseries module instead.\n",
      "  from pandas.core import datetools\n"
     ]
    },
    {
     "data": {
      "text/html": [
       "<div>\n",
       "<style>\n",
       "    .dataframe thead tr:only-child th {\n",
       "        text-align: right;\n",
       "    }\n",
       "\n",
       "    .dataframe thead th {\n",
       "        text-align: left;\n",
       "    }\n",
       "\n",
       "    .dataframe tbody tr th {\n",
       "        vertical-align: top;\n",
       "    }\n",
       "</style>\n",
       "<table border=\"1\" class=\"dataframe\">\n",
       "  <thead>\n",
       "    <tr style=\"text-align: right;\">\n",
       "      <th></th>\n",
       "      <th>eruptions</th>\n",
       "      <th>waiting</th>\n",
       "    </tr>\n",
       "  </thead>\n",
       "  <tbody>\n",
       "    <tr>\n",
       "      <th>0</th>\n",
       "      <td>3.600</td>\n",
       "      <td>79</td>\n",
       "    </tr>\n",
       "    <tr>\n",
       "      <th>1</th>\n",
       "      <td>1.800</td>\n",
       "      <td>54</td>\n",
       "    </tr>\n",
       "    <tr>\n",
       "      <th>2</th>\n",
       "      <td>3.333</td>\n",
       "      <td>74</td>\n",
       "    </tr>\n",
       "    <tr>\n",
       "      <th>3</th>\n",
       "      <td>2.283</td>\n",
       "      <td>62</td>\n",
       "    </tr>\n",
       "    <tr>\n",
       "      <th>4</th>\n",
       "      <td>4.533</td>\n",
       "      <td>85</td>\n",
       "    </tr>\n",
       "  </tbody>\n",
       "</table>\n",
       "</div>"
      ],
      "text/plain": [
       "   eruptions  waiting\n",
       "0      3.600       79\n",
       "1      1.800       54\n",
       "2      3.333       74\n",
       "3      2.283       62\n",
       "4      4.533       85"
      ]
     },
     "execution_count": 10,
     "metadata": {},
     "output_type": "execute_result"
    }
   ],
   "source": [
    "import statsmodels.api as sma\n",
    "faithful=sma.datasets.get_rdataset(\"faithful\")\n",
    "faithful.data.head()"
   ]
  },
  {
   "cell_type": "code",
   "execution_count": 11,
   "metadata": {
    "collapsed": true
   },
   "outputs": [],
   "source": [
    "faithfulDF = faithful.data"
   ]
  },
  {
   "cell_type": "code",
   "execution_count": 12,
   "metadata": {
    "collapsed": true
   },
   "outputs": [],
   "source": [
    "mean = np.mean(faithfulDF['waiting'])\n",
    "std = np.std(faithfulDF['waiting'])\n",
    "N = len(faithfulDF['waiting'])"
   ]
  },
  {
   "cell_type": "code",
   "execution_count": 13,
   "metadata": {
    "collapsed": true
   },
   "outputs": [],
   "source": [
    "ci = stats.norm.interval(0.95, loc=mean, scale=std/np.sqrt(N))"
   ]
  },
  {
   "cell_type": "code",
   "execution_count": 14,
   "metadata": {},
   "outputs": [
    {
     "data": {
      "text/plain": [
       "(69.28440107709261, 72.509716569966201)"
      ]
     },
     "execution_count": 14,
     "metadata": {},
     "output_type": "execute_result"
    }
   ],
   "source": [
    "ci"
   ]
  },
  {
   "cell_type": "code",
   "execution_count": 22,
   "metadata": {
    "collapsed": true
   },
   "outputs": [],
   "source": [
    "import pandas as pd\n",
    "import numpy as np\n",
    "chirpDf = pd.read_csv('./Files/cricket_chirp_temperature.csv')"
   ]
  },
  {
   "cell_type": "code",
   "execution_count": 28,
   "metadata": {},
   "outputs": [
    {
     "data": {
      "text/html": [
       "<div>\n",
       "<style>\n",
       "    .dataframe thead tr:only-child th {\n",
       "        text-align: right;\n",
       "    }\n",
       "\n",
       "    .dataframe thead th {\n",
       "        text-align: left;\n",
       "    }\n",
       "\n",
       "    .dataframe tbody tr th {\n",
       "        vertical-align: top;\n",
       "    }\n",
       "</style>\n",
       "<table border=\"1\" class=\"dataframe\">\n",
       "  <thead>\n",
       "    <tr style=\"text-align: right;\">\n",
       "      <th></th>\n",
       "      <th>chirpFrequency</th>\n",
       "      <th>temperature</th>\n",
       "    </tr>\n",
       "  </thead>\n",
       "  <tbody>\n",
       "    <tr>\n",
       "      <th>0</th>\n",
       "      <td>20.000000</td>\n",
       "      <td>88.599998</td>\n",
       "    </tr>\n",
       "    <tr>\n",
       "      <th>1</th>\n",
       "      <td>16.000000</td>\n",
       "      <td>71.599998</td>\n",
       "    </tr>\n",
       "    <tr>\n",
       "      <th>2</th>\n",
       "      <td>19.799999</td>\n",
       "      <td>93.300003</td>\n",
       "    </tr>\n",
       "    <tr>\n",
       "      <th>3</th>\n",
       "      <td>18.400000</td>\n",
       "      <td>84.300003</td>\n",
       "    </tr>\n",
       "    <tr>\n",
       "      <th>4</th>\n",
       "      <td>17.100000</td>\n",
       "      <td>80.599998</td>\n",
       "    </tr>\n",
       "    <tr>\n",
       "      <th>5</th>\n",
       "      <td>15.500000</td>\n",
       "      <td>75.199997</td>\n",
       "    </tr>\n",
       "    <tr>\n",
       "      <th>6</th>\n",
       "      <td>14.700000</td>\n",
       "      <td>69.699997</td>\n",
       "    </tr>\n",
       "    <tr>\n",
       "      <th>7</th>\n",
       "      <td>17.100000</td>\n",
       "      <td>82.000000</td>\n",
       "    </tr>\n",
       "    <tr>\n",
       "      <th>8</th>\n",
       "      <td>15.400000</td>\n",
       "      <td>69.400002</td>\n",
       "    </tr>\n",
       "    <tr>\n",
       "      <th>9</th>\n",
       "      <td>16.200001</td>\n",
       "      <td>83.300003</td>\n",
       "    </tr>\n",
       "    <tr>\n",
       "      <th>10</th>\n",
       "      <td>15.000000</td>\n",
       "      <td>79.599998</td>\n",
       "    </tr>\n",
       "    <tr>\n",
       "      <th>11</th>\n",
       "      <td>17.200001</td>\n",
       "      <td>82.599998</td>\n",
       "    </tr>\n",
       "    <tr>\n",
       "      <th>12</th>\n",
       "      <td>16.000000</td>\n",
       "      <td>80.599998</td>\n",
       "    </tr>\n",
       "    <tr>\n",
       "      <th>13</th>\n",
       "      <td>17.000000</td>\n",
       "      <td>83.500000</td>\n",
       "    </tr>\n",
       "    <tr>\n",
       "      <th>14</th>\n",
       "      <td>14.400000</td>\n",
       "      <td>76.300003</td>\n",
       "    </tr>\n",
       "  </tbody>\n",
       "</table>\n",
       "</div>"
      ],
      "text/plain": [
       "    chirpFrequency   temperature\n",
       "0        20.000000     88.599998\n",
       "1        16.000000     71.599998\n",
       "2        19.799999     93.300003\n",
       "3        18.400000     84.300003\n",
       "4        17.100000     80.599998\n",
       "5        15.500000     75.199997\n",
       "6        14.700000     69.699997\n",
       "7        17.100000     82.000000\n",
       "8        15.400000     69.400002\n",
       "9        16.200001     83.300003\n",
       "10       15.000000     79.599998\n",
       "11       17.200001     82.599998\n",
       "12       16.000000     80.599998\n",
       "13       17.000000     83.500000\n",
       "14       14.400000     76.300003"
      ]
     },
     "execution_count": 28,
     "metadata": {},
     "output_type": "execute_result"
    }
   ],
   "source": [
    "chirpDF"
   ]
  },
  {
   "cell_type": "code",
   "execution_count": null,
   "metadata": {
    "collapsed": true
   },
   "outputs": [],
   "source": []
  },
  {
   "cell_type": "code",
   "execution_count": null,
   "metadata": {
    "collapsed": true
   },
   "outputs": [],
   "source": []
  }
 ],
 "metadata": {
  "kernelspec": {
   "display_name": "Python 3",
   "language": "python",
   "name": "python3"
  },
  "language_info": {
   "codemirror_mode": {
    "name": "ipython",
    "version": 3
   },
   "file_extension": ".py",
   "mimetype": "text/x-python",
   "name": "python",
   "nbconvert_exporter": "python",
   "pygments_lexer": "ipython3",
   "version": "3.6.3"
  }
 },
 "nbformat": 4,
 "nbformat_minor": 2
}
