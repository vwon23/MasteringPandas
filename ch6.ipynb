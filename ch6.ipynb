{
 "cells": [
  {
   "cell_type": "code",
   "execution_count": 2,
   "metadata": {
    "collapsed": true
   },
   "outputs": [],
   "source": [
    "\n",
    "import numpy as np\n",
    "import pandas as pd\n",
    "import matplotlib.pyplot as plt"
   ]
  },
  {
   "cell_type": "code",
   "execution_count": 3,
   "metadata": {
    "collapsed": true
   },
   "outputs": [],
   "source": [
    "# %matplotlib inline"
   ]
  },
  {
   "cell_type": "code",
   "execution_count": 4,
   "metadata": {
    "collapsed": true
   },
   "outputs": [],
   "source": [
    "date_stngs = ['2014-05-01','2014-05-02',\n",
    "'2014-05-05','2014-05-06','2014-05-07']"
   ]
  },
  {
   "cell_type": "code",
   "execution_count": 5,
   "metadata": {},
   "outputs": [
    {
     "data": {
      "text/plain": [
       "DatetimeIndex(['2014-05-01', '2014-05-02', '2014-05-05', '2014-05-06',\n",
       "               '2014-05-07'],\n",
       "              dtype='datetime64[ns]', freq=None)"
      ]
     },
     "execution_count": 5,
     "metadata": {},
     "output_type": "execute_result"
    }
   ],
   "source": [
    "tradeDates = pd.to_datetime(date_stngs)\n",
    "tradeDates"
   ]
  },
  {
   "cell_type": "code",
   "execution_count": 6,
   "metadata": {},
   "outputs": [
    {
     "data": {
      "text/html": [
       "<div>\n",
       "<style>\n",
       "    .dataframe thead tr:only-child th {\n",
       "        text-align: right;\n",
       "    }\n",
       "\n",
       "    .dataframe thead th {\n",
       "        text-align: left;\n",
       "    }\n",
       "\n",
       "    .dataframe tbody tr th {\n",
       "        vertical-align: top;\n",
       "    }\n",
       "</style>\n",
       "<table border=\"1\" class=\"dataframe\">\n",
       "  <thead>\n",
       "    <tr style=\"text-align: right;\">\n",
       "      <th></th>\n",
       "      <th>closingPrices</th>\n",
       "    </tr>\n",
       "  </thead>\n",
       "  <tbody>\n",
       "    <tr>\n",
       "      <th>2014-05-01</th>\n",
       "      <td>531.35</td>\n",
       "    </tr>\n",
       "    <tr>\n",
       "      <th>2014-05-02</th>\n",
       "      <td>527.93</td>\n",
       "    </tr>\n",
       "    <tr>\n",
       "      <th>2014-05-05</th>\n",
       "      <td>527.81</td>\n",
       "    </tr>\n",
       "    <tr>\n",
       "      <th>2014-05-06</th>\n",
       "      <td>515.14</td>\n",
       "    </tr>\n",
       "    <tr>\n",
       "      <th>2014-05-07</th>\n",
       "      <td>509.96</td>\n",
       "    </tr>\n",
       "  </tbody>\n",
       "</table>\n",
       "</div>"
      ],
      "text/plain": [
       "            closingPrices\n",
       "2014-05-01         531.35\n",
       "2014-05-02         527.93\n",
       "2014-05-05         527.81\n",
       "2014-05-06         515.14\n",
       "2014-05-07         509.96"
      ]
     },
     "execution_count": 6,
     "metadata": {},
     "output_type": "execute_result"
    }
   ],
   "source": [
    "closingPrices=[531.35,527.93,527.81,515.14,509.96]\n",
    "googClosingPrices=pd.DataFrame(closingPrices,  columns=['closingPrices'], index=tradeDates)\n",
    "googClosingPrices"
   ]
  },
  {
   "cell_type": "code",
   "execution_count": 7,
   "metadata": {},
   "outputs": [
    {
     "data": {
      "text/html": [
       "<div>\n",
       "<style>\n",
       "    .dataframe thead tr:only-child th {\n",
       "        text-align: right;\n",
       "    }\n",
       "\n",
       "    .dataframe thead th {\n",
       "        text-align: left;\n",
       "    }\n",
       "\n",
       "    .dataframe tbody tr th {\n",
       "        vertical-align: top;\n",
       "    }\n",
       "</style>\n",
       "<table border=\"1\" class=\"dataframe\">\n",
       "  <thead>\n",
       "    <tr style=\"text-align: right;\">\n",
       "      <th></th>\n",
       "      <th>TradeDate</th>\n",
       "      <th>closingPrice</th>\n",
       "    </tr>\n",
       "  </thead>\n",
       "  <tbody>\n",
       "    <tr>\n",
       "      <th>0</th>\n",
       "      <td>1959-06-29</td>\n",
       "      <td>445</td>\n",
       "    </tr>\n",
       "    <tr>\n",
       "      <th>1</th>\n",
       "      <td>1959-06-30</td>\n",
       "      <td>448</td>\n",
       "    </tr>\n",
       "    <tr>\n",
       "      <th>2</th>\n",
       "      <td>1959-07-01</td>\n",
       "      <td>450</td>\n",
       "    </tr>\n",
       "    <tr>\n",
       "      <th>3</th>\n",
       "      <td>1959-07-02</td>\n",
       "      <td>447e</td>\n",
       "    </tr>\n",
       "    <tr>\n",
       "      <th>4</th>\n",
       "      <td>1959-07-06</td>\n",
       "      <td>451</td>\n",
       "    </tr>\n",
       "  </tbody>\n",
       "</table>\n",
       "</div>"
      ],
      "text/plain": [
       "    TradeDate closingPrice\n",
       "0  1959-06-29          445\n",
       "1  1959-06-30          448\n",
       "2  1959-07-01          450\n",
       "3  1959-07-02         447e\n",
       "4  1959-07-06          451"
      ]
     },
     "execution_count": 7,
     "metadata": {},
     "output_type": "execute_result"
    }
   ],
   "source": [
    "ibmData=pd.read_csv('./Files/ibm-common-stock-closing-prices-1959_1960.csv')\n",
    "ibmData.head()"
   ]
  },
  {
   "cell_type": "code",
   "execution_count": 8,
   "metadata": {},
   "outputs": [
    {
     "data": {
      "text/plain": [
       "str"
      ]
     },
     "execution_count": 8,
     "metadata": {},
     "output_type": "execute_result"
    }
   ],
   "source": [
    "type(ibmData['TradeDate'][0])"
   ]
  },
  {
   "cell_type": "code",
   "execution_count": 9,
   "metadata": {},
   "outputs": [
    {
     "data": {
      "text/plain": [
       "pandas._libs.tslib.Timestamp"
      ]
     },
     "execution_count": 9,
     "metadata": {},
     "output_type": "execute_result"
    }
   ],
   "source": [
    "ibmData['TradeDate']=pd.to_datetime(ibmData['TradeDate'])\n",
    "type(ibmData['TradeDate'][0])"
   ]
  },
  {
   "cell_type": "code",
   "execution_count": 10,
   "metadata": {
    "collapsed": true
   },
   "outputs": [],
   "source": [
    "ibmTS = ibmData.set_index('TradeDate')['closingPrice']"
   ]
  },
  {
   "cell_type": "code",
   "execution_count": 11,
   "metadata": {},
   "outputs": [
    {
     "data": {
      "text/plain": [
       "datetime.datetime(2014, 12, 25, 0, 0)"
      ]
     },
     "execution_count": 11,
     "metadata": {},
     "output_type": "execute_result"
    }
   ],
   "source": [
    "xmasDay=pd.datetime(2014,12,25)\n",
    "xmasDay"
   ]
  },
  {
   "cell_type": "code",
   "execution_count": 12,
   "metadata": {},
   "outputs": [
    {
     "data": {
      "text/plain": [
       "Timestamp('2014-12-24 00:00:00')"
      ]
     },
     "execution_count": 12,
     "metadata": {},
     "output_type": "execute_result"
    }
   ],
   "source": [
    "boxingDay=xmasDay+pd.DateOffset(days=-1)\n",
    "boxingDay"
   ]
  },
  {
   "cell_type": "code",
   "execution_count": 13,
   "metadata": {},
   "outputs": [
    {
     "data": {
      "text/plain": [
       "datetime.datetime(2017, 12, 23, 14, 45, 41, 130274)"
      ]
     },
     "execution_count": 13,
     "metadata": {},
     "output_type": "execute_result"
    }
   ],
   "source": [
    "today=pd.datetime.now()\n",
    "today"
   ]
  },
  {
   "cell_type": "code",
   "execution_count": 14,
   "metadata": {},
   "outputs": [
    {
     "name": "stderr",
     "output_type": "stream",
     "text": [
      "C:\\ProgramData\\Anaconda3\\lib\\site-packages\\ipykernel_launcher.py:1: FutureWarning: pandas.core.datetools.bday is deprecated and will be removed in a future version.\n",
      "  \"\"\"Entry point for launching an IPython kernel.\n"
     ]
    },
    {
     "data": {
      "text/plain": [
       "TradeDate\n",
       "1959-07-02     445\n",
       "1959-07-03     448\n",
       "1959-07-06     450\n",
       "1959-07-07    447e\n",
       "1959-07-09     451\n",
       "1959-07-10     453\n",
       "1959-07-13     454\n",
       "1959-07-14     454\n",
       "1959-07-15     459\n",
       "1959-07-16     440\n",
       "1959-07-17     446\n",
       "1959-07-20     443\n",
       "1959-07-21     443\n",
       "1959-07-22     440\n",
       "1959-07-23     439\n",
       "1959-07-24     435\n",
       "1959-07-27     435\n",
       "1959-07-28     436\n",
       "1959-07-29     435\n",
       "1959-07-30     435\n",
       "1959-07-31     435\n",
       "1959-08-03     433\n",
       "1959-08-04     429\n",
       "1959-08-05     428\n",
       "1959-08-06     425\n",
       "1959-08-07     427\n",
       "1959-08-10     425\n",
       "1959-08-11     422\n",
       "1959-08-12     409\n",
       "1959-08-13     407\n",
       "              ... \n",
       "1960-05-24     473\n",
       "1960-05-25     473\n",
       "1960-05-26     475\n",
       "1960-05-27     499\n",
       "1960-05-30     485\n",
       "1960-05-31     491\n",
       "1960-06-01     496\n",
       "1960-06-03     504\n",
       "1960-06-06     504\n",
       "1960-06-07     509\n",
       "1960-06-08     511\n",
       "1960-06-09     524\n",
       "1960-06-10     525\n",
       "1960-06-13     541\n",
       "1960-06-14     531\n",
       "1960-06-15     529\n",
       "1960-06-16     530\n",
       "1960-06-17     531\n",
       "1960-06-20     527\n",
       "1960-06-21     525\n",
       "1960-06-22     519\n",
       "1960-06-23     514\n",
       "1960-06-24     509\n",
       "1960-06-27     505\n",
       "1960-06-28     513\n",
       "1960-06-29     525\n",
       "1960-06-30     519\n",
       "1960-07-01     519\n",
       "1960-07-04     522\n",
       "1960-07-05     522\n",
       "Name: closingPrice, Length: 255, dtype: object"
      ]
     },
     "execution_count": 14,
     "metadata": {},
     "output_type": "execute_result"
    }
   ],
   "source": [
    "ibmTS.shift(3, freq=pd.datetools.bday)"
   ]
  },
  {
   "cell_type": "code",
   "execution_count": 15,
   "metadata": {},
   "outputs": [
    {
     "data": {
      "text/plain": [
       "TradeDate\n",
       "1959-06-30    448\n",
       "1959-07-31    428\n",
       "1959-08-31    425\n",
       "1959-09-30    411\n",
       "1959-10-30    411\n",
       "1959-11-30    428\n",
       "1959-12-31    439\n",
       "1960-01-29    418\n",
       "1960-02-29    419\n",
       "1960-03-31    445\n",
       "1960-04-29    453\n",
       "1960-05-31    504\n",
       "1960-06-30    522\n",
       "Freq: BM, Name: closingPrice, dtype: object"
      ]
     },
     "execution_count": 15,
     "metadata": {},
     "output_type": "execute_result"
    }
   ],
   "source": [
    "ibmTS.asfreq('BM')"
   ]
  },
  {
   "cell_type": "code",
   "execution_count": 16,
   "metadata": {},
   "outputs": [
    {
     "data": {
      "text/html": [
       "<div>\n",
       "<style>\n",
       "    .dataframe thead tr:only-child th {\n",
       "        text-align: right;\n",
       "    }\n",
       "\n",
       "    .dataframe thead th {\n",
       "        text-align: left;\n",
       "    }\n",
       "\n",
       "    .dataframe tbody tr th {\n",
       "        vertical-align: top;\n",
       "    }\n",
       "</style>\n",
       "<table border=\"1\" class=\"dataframe\">\n",
       "  <thead>\n",
       "    <tr style=\"text-align: right;\">\n",
       "      <th></th>\n",
       "      <th>Timestamp</th>\n",
       "      <th>close</th>\n",
       "      <th>high</th>\n",
       "      <th>low</th>\n",
       "      <th>open</th>\n",
       "      <th>volume</th>\n",
       "    </tr>\n",
       "  </thead>\n",
       "  <tbody>\n",
       "    <tr>\n",
       "      <th>0</th>\n",
       "      <td>1401197402</td>\n",
       "      <td>555.008</td>\n",
       "      <td>556.41</td>\n",
       "      <td>554.35</td>\n",
       "      <td>556.38</td>\n",
       "      <td>81100</td>\n",
       "    </tr>\n",
       "    <tr>\n",
       "      <th>1</th>\n",
       "      <td>1401197460</td>\n",
       "      <td>556.250</td>\n",
       "      <td>556.30</td>\n",
       "      <td>555.25</td>\n",
       "      <td>555.25</td>\n",
       "      <td>18500</td>\n",
       "    </tr>\n",
       "    <tr>\n",
       "      <th>2</th>\n",
       "      <td>1401197526</td>\n",
       "      <td>556.730</td>\n",
       "      <td>556.75</td>\n",
       "      <td>556.05</td>\n",
       "      <td>556.39</td>\n",
       "      <td>9900</td>\n",
       "    </tr>\n",
       "    <tr>\n",
       "      <th>3</th>\n",
       "      <td>1401197582</td>\n",
       "      <td>557.480</td>\n",
       "      <td>557.67</td>\n",
       "      <td>556.73</td>\n",
       "      <td>556.73</td>\n",
       "      <td>14700</td>\n",
       "    </tr>\n",
       "    <tr>\n",
       "      <th>4</th>\n",
       "      <td>1401197642</td>\n",
       "      <td>558.155</td>\n",
       "      <td>558.66</td>\n",
       "      <td>557.48</td>\n",
       "      <td>557.59</td>\n",
       "      <td>15700</td>\n",
       "    </tr>\n",
       "  </tbody>\n",
       "</table>\n",
       "</div>"
      ],
      "text/plain": [
       "    Timestamp    close    high     low    open  volume\n",
       "0  1401197402  555.008  556.41  554.35  556.38   81100\n",
       "1  1401197460  556.250  556.30  555.25  555.25   18500\n",
       "2  1401197526  556.730  556.75  556.05  556.39    9900\n",
       "3  1401197582  557.480  557.67  556.73  556.73   14700\n",
       "4  1401197642  558.155  558.66  557.48  557.59   15700"
      ]
     },
     "execution_count": 16,
     "metadata": {},
     "output_type": "execute_result"
    }
   ],
   "source": [
    "googTickData = pd.read_csv('./Files/GOOG_tickdata_20140527.csv')\n",
    "googTickData.head()"
   ]
  },
  {
   "cell_type": "code",
   "execution_count": 17,
   "metadata": {
    "collapsed": true
   },
   "outputs": [],
   "source": [
    "googTickData['tstamp']=pd.to_datetime(googTickData['Timestamp'], unit='s', utc='True')"
   ]
  },
  {
   "cell_type": "code",
   "execution_count": 18,
   "metadata": {},
   "outputs": [
    {
     "data": {
      "text/html": [
       "<div>\n",
       "<style>\n",
       "    .dataframe thead tr:only-child th {\n",
       "        text-align: right;\n",
       "    }\n",
       "\n",
       "    .dataframe thead th {\n",
       "        text-align: left;\n",
       "    }\n",
       "\n",
       "    .dataframe tbody tr th {\n",
       "        vertical-align: top;\n",
       "    }\n",
       "</style>\n",
       "<table border=\"1\" class=\"dataframe\">\n",
       "  <thead>\n",
       "    <tr style=\"text-align: right;\">\n",
       "      <th></th>\n",
       "      <th>Timestamp</th>\n",
       "      <th>close</th>\n",
       "      <th>high</th>\n",
       "      <th>low</th>\n",
       "      <th>open</th>\n",
       "      <th>volume</th>\n",
       "      <th>tstamp</th>\n",
       "    </tr>\n",
       "  </thead>\n",
       "  <tbody>\n",
       "    <tr>\n",
       "      <th>0</th>\n",
       "      <td>1401197402</td>\n",
       "      <td>555.008</td>\n",
       "      <td>556.41</td>\n",
       "      <td>554.35</td>\n",
       "      <td>556.38</td>\n",
       "      <td>81100</td>\n",
       "      <td>2014-05-27 13:30:02</td>\n",
       "    </tr>\n",
       "    <tr>\n",
       "      <th>1</th>\n",
       "      <td>1401197460</td>\n",
       "      <td>556.250</td>\n",
       "      <td>556.30</td>\n",
       "      <td>555.25</td>\n",
       "      <td>555.25</td>\n",
       "      <td>18500</td>\n",
       "      <td>2014-05-27 13:31:00</td>\n",
       "    </tr>\n",
       "    <tr>\n",
       "      <th>2</th>\n",
       "      <td>1401197526</td>\n",
       "      <td>556.730</td>\n",
       "      <td>556.75</td>\n",
       "      <td>556.05</td>\n",
       "      <td>556.39</td>\n",
       "      <td>9900</td>\n",
       "      <td>2014-05-27 13:32:06</td>\n",
       "    </tr>\n",
       "    <tr>\n",
       "      <th>3</th>\n",
       "      <td>1401197582</td>\n",
       "      <td>557.480</td>\n",
       "      <td>557.67</td>\n",
       "      <td>556.73</td>\n",
       "      <td>556.73</td>\n",
       "      <td>14700</td>\n",
       "      <td>2014-05-27 13:33:02</td>\n",
       "    </tr>\n",
       "    <tr>\n",
       "      <th>4</th>\n",
       "      <td>1401197642</td>\n",
       "      <td>558.155</td>\n",
       "      <td>558.66</td>\n",
       "      <td>557.48</td>\n",
       "      <td>557.59</td>\n",
       "      <td>15700</td>\n",
       "      <td>2014-05-27 13:34:02</td>\n",
       "    </tr>\n",
       "  </tbody>\n",
       "</table>\n",
       "</div>"
      ],
      "text/plain": [
       "    Timestamp    close    high     low    open  volume              tstamp\n",
       "0  1401197402  555.008  556.41  554.35  556.38   81100 2014-05-27 13:30:02\n",
       "1  1401197460  556.250  556.30  555.25  555.25   18500 2014-05-27 13:31:00\n",
       "2  1401197526  556.730  556.75  556.05  556.39    9900 2014-05-27 13:32:06\n",
       "3  1401197582  557.480  557.67  556.73  556.73   14700 2014-05-27 13:33:02\n",
       "4  1401197642  558.155  558.66  557.48  557.59   15700 2014-05-27 13:34:02"
      ]
     },
     "execution_count": 18,
     "metadata": {},
     "output_type": "execute_result"
    }
   ],
   "source": [
    "googTickData.head() "
   ]
  },
  {
   "cell_type": "code",
   "execution_count": 19,
   "metadata": {},
   "outputs": [
    {
     "data": {
      "text/html": [
       "<div>\n",
       "<style>\n",
       "    .dataframe thead tr:only-child th {\n",
       "        text-align: right;\n",
       "    }\n",
       "\n",
       "    .dataframe thead th {\n",
       "        text-align: left;\n",
       "    }\n",
       "\n",
       "    .dataframe tbody tr th {\n",
       "        vertical-align: top;\n",
       "    }\n",
       "</style>\n",
       "<table border=\"1\" class=\"dataframe\">\n",
       "  <thead>\n",
       "    <tr style=\"text-align: right;\">\n",
       "      <th></th>\n",
       "      <th>close</th>\n",
       "      <th>high</th>\n",
       "      <th>low</th>\n",
       "      <th>open</th>\n",
       "      <th>volume</th>\n",
       "    </tr>\n",
       "    <tr>\n",
       "      <th>tstamp</th>\n",
       "      <th></th>\n",
       "      <th></th>\n",
       "      <th></th>\n",
       "      <th></th>\n",
       "      <th></th>\n",
       "    </tr>\n",
       "  </thead>\n",
       "  <tbody>\n",
       "    <tr>\n",
       "      <th>2014-05-27 13:30:02</th>\n",
       "      <td>555.008</td>\n",
       "      <td>556.41</td>\n",
       "      <td>554.35</td>\n",
       "      <td>556.38</td>\n",
       "      <td>81100</td>\n",
       "    </tr>\n",
       "    <tr>\n",
       "      <th>2014-05-27 13:31:00</th>\n",
       "      <td>556.250</td>\n",
       "      <td>556.30</td>\n",
       "      <td>555.25</td>\n",
       "      <td>555.25</td>\n",
       "      <td>18500</td>\n",
       "    </tr>\n",
       "    <tr>\n",
       "      <th>2014-05-27 13:32:06</th>\n",
       "      <td>556.730</td>\n",
       "      <td>556.75</td>\n",
       "      <td>556.05</td>\n",
       "      <td>556.39</td>\n",
       "      <td>9900</td>\n",
       "    </tr>\n",
       "    <tr>\n",
       "      <th>2014-05-27 13:33:02</th>\n",
       "      <td>557.480</td>\n",
       "      <td>557.67</td>\n",
       "      <td>556.73</td>\n",
       "      <td>556.73</td>\n",
       "      <td>14700</td>\n",
       "    </tr>\n",
       "    <tr>\n",
       "      <th>2014-05-27 13:34:02</th>\n",
       "      <td>558.155</td>\n",
       "      <td>558.66</td>\n",
       "      <td>557.48</td>\n",
       "      <td>557.59</td>\n",
       "      <td>15700</td>\n",
       "    </tr>\n",
       "  </tbody>\n",
       "</table>\n",
       "</div>"
      ],
      "text/plain": [
       "                       close    high     low    open  volume\n",
       "tstamp                                                      \n",
       "2014-05-27 13:30:02  555.008  556.41  554.35  556.38   81100\n",
       "2014-05-27 13:31:00  556.250  556.30  555.25  555.25   18500\n",
       "2014-05-27 13:32:06  556.730  556.75  556.05  556.39    9900\n",
       "2014-05-27 13:33:02  557.480  557.67  556.73  556.73   14700\n",
       "2014-05-27 13:34:02  558.155  558.66  557.48  557.59   15700"
      ]
     },
     "execution_count": 19,
     "metadata": {},
     "output_type": "execute_result"
    }
   ],
   "source": [
    "googTickTS = googTickData.set_index('tstamp')\n",
    "googTickTS = googTickTS.drop('Timestamp', axis=1)\n",
    "googTickTS.head()"
   ]
  },
  {
   "cell_type": "code",
   "execution_count": 20,
   "metadata": {},
   "outputs": [
    {
     "data": {
      "text/html": [
       "<div>\n",
       "<style>\n",
       "    .dataframe thead tr:only-child th {\n",
       "        text-align: right;\n",
       "    }\n",
       "\n",
       "    .dataframe thead th {\n",
       "        text-align: left;\n",
       "    }\n",
       "\n",
       "    .dataframe tbody tr th {\n",
       "        vertical-align: top;\n",
       "    }\n",
       "</style>\n",
       "<table border=\"1\" class=\"dataframe\">\n",
       "  <thead>\n",
       "    <tr style=\"text-align: right;\">\n",
       "      <th></th>\n",
       "      <th>close</th>\n",
       "      <th>high</th>\n",
       "      <th>low</th>\n",
       "      <th>open</th>\n",
       "      <th>volume</th>\n",
       "    </tr>\n",
       "    <tr>\n",
       "      <th>tstamp</th>\n",
       "      <th></th>\n",
       "      <th></th>\n",
       "      <th></th>\n",
       "      <th></th>\n",
       "      <th></th>\n",
       "    </tr>\n",
       "  </thead>\n",
       "  <tbody>\n",
       "    <tr>\n",
       "      <th>2014-05-27 09:30:02-04:00</th>\n",
       "      <td>555.008</td>\n",
       "      <td>556.41</td>\n",
       "      <td>554.35</td>\n",
       "      <td>556.38</td>\n",
       "      <td>81100</td>\n",
       "    </tr>\n",
       "    <tr>\n",
       "      <th>2014-05-27 09:31:00-04:00</th>\n",
       "      <td>556.250</td>\n",
       "      <td>556.30</td>\n",
       "      <td>555.25</td>\n",
       "      <td>555.25</td>\n",
       "      <td>18500</td>\n",
       "    </tr>\n",
       "    <tr>\n",
       "      <th>2014-05-27 09:32:06-04:00</th>\n",
       "      <td>556.730</td>\n",
       "      <td>556.75</td>\n",
       "      <td>556.05</td>\n",
       "      <td>556.39</td>\n",
       "      <td>9900</td>\n",
       "    </tr>\n",
       "    <tr>\n",
       "      <th>2014-05-27 09:33:02-04:00</th>\n",
       "      <td>557.480</td>\n",
       "      <td>557.67</td>\n",
       "      <td>556.73</td>\n",
       "      <td>556.73</td>\n",
       "      <td>14700</td>\n",
       "    </tr>\n",
       "    <tr>\n",
       "      <th>2014-05-27 09:34:02-04:00</th>\n",
       "      <td>558.155</td>\n",
       "      <td>558.66</td>\n",
       "      <td>557.48</td>\n",
       "      <td>557.59</td>\n",
       "      <td>15700</td>\n",
       "    </tr>\n",
       "  </tbody>\n",
       "</table>\n",
       "</div>"
      ],
      "text/plain": [
       "                             close    high     low    open  volume\n",
       "tstamp                                                            \n",
       "2014-05-27 09:30:02-04:00  555.008  556.41  554.35  556.38   81100\n",
       "2014-05-27 09:31:00-04:00  556.250  556.30  555.25  555.25   18500\n",
       "2014-05-27 09:32:06-04:00  556.730  556.75  556.05  556.39    9900\n",
       "2014-05-27 09:33:02-04:00  557.480  557.67  556.73  556.73   14700\n",
       "2014-05-27 09:34:02-04:00  558.155  558.66  557.48  557.59   15700"
      ]
     },
     "execution_count": 20,
     "metadata": {},
     "output_type": "execute_result"
    }
   ],
   "source": [
    "googTickTS.index=googTickTS.index.tz_localize('UTC').tz_convert('US/Eastern')\n",
    "googTickTS.head()"
   ]
  },
  {
   "cell_type": "code",
   "execution_count": 21,
   "metadata": {},
   "outputs": [
    {
     "data": {
      "text/html": [
       "<div>\n",
       "<style>\n",
       "    .dataframe thead tr:only-child th {\n",
       "        text-align: right;\n",
       "    }\n",
       "\n",
       "    .dataframe thead th {\n",
       "        text-align: left;\n",
       "    }\n",
       "\n",
       "    .dataframe tbody tr th {\n",
       "        vertical-align: top;\n",
       "    }\n",
       "</style>\n",
       "<table border=\"1\" class=\"dataframe\">\n",
       "  <thead>\n",
       "    <tr style=\"text-align: right;\">\n",
       "      <th></th>\n",
       "      <th>close</th>\n",
       "      <th>high</th>\n",
       "      <th>low</th>\n",
       "      <th>open</th>\n",
       "      <th>volume</th>\n",
       "    </tr>\n",
       "    <tr>\n",
       "      <th>tstamp</th>\n",
       "      <th></th>\n",
       "      <th></th>\n",
       "      <th></th>\n",
       "      <th></th>\n",
       "      <th></th>\n",
       "    </tr>\n",
       "  </thead>\n",
       "  <tbody>\n",
       "    <tr>\n",
       "      <th>2014-05-27 15:56:00-04:00</th>\n",
       "      <td>565.4300</td>\n",
       "      <td>565.48</td>\n",
       "      <td>565.30</td>\n",
       "      <td>565.385</td>\n",
       "      <td>14300</td>\n",
       "    </tr>\n",
       "    <tr>\n",
       "      <th>2014-05-27 15:57:00-04:00</th>\n",
       "      <td>565.3050</td>\n",
       "      <td>565.46</td>\n",
       "      <td>565.20</td>\n",
       "      <td>565.400</td>\n",
       "      <td>14700</td>\n",
       "    </tr>\n",
       "    <tr>\n",
       "      <th>2014-05-27 15:58:00-04:00</th>\n",
       "      <td>565.1101</td>\n",
       "      <td>565.31</td>\n",
       "      <td>565.10</td>\n",
       "      <td>565.310</td>\n",
       "      <td>23200</td>\n",
       "    </tr>\n",
       "    <tr>\n",
       "      <th>2014-05-27 15:59:00-04:00</th>\n",
       "      <td>565.9400</td>\n",
       "      <td>566.00</td>\n",
       "      <td>565.08</td>\n",
       "      <td>565.230</td>\n",
       "      <td>55600</td>\n",
       "    </tr>\n",
       "    <tr>\n",
       "      <th>2014-05-27 16:00:00-04:00</th>\n",
       "      <td>565.9500</td>\n",
       "      <td>565.95</td>\n",
       "      <td>565.95</td>\n",
       "      <td>565.950</td>\n",
       "      <td>126000</td>\n",
       "    </tr>\n",
       "  </tbody>\n",
       "</table>\n",
       "</div>"
      ],
      "text/plain": [
       "                              close    high     low     open  volume\n",
       "tstamp                                                              \n",
       "2014-05-27 15:56:00-04:00  565.4300  565.48  565.30  565.385   14300\n",
       "2014-05-27 15:57:00-04:00  565.3050  565.46  565.20  565.400   14700\n",
       "2014-05-27 15:58:00-04:00  565.1101  565.31  565.10  565.310   23200\n",
       "2014-05-27 15:59:00-04:00  565.9400  566.00  565.08  565.230   55600\n",
       "2014-05-27 16:00:00-04:00  565.9500  565.95  565.95  565.950  126000"
      ]
     },
     "execution_count": 21,
     "metadata": {},
     "output_type": "execute_result"
    }
   ],
   "source": [
    "googTickTS.tail()"
   ]
  },
  {
   "cell_type": "code",
   "execution_count": 22,
   "metadata": {},
   "outputs": [
    {
     "data": {
      "text/html": [
       "<div>\n",
       "<style>\n",
       "    .dataframe thead tr:only-child th {\n",
       "        text-align: right;\n",
       "    }\n",
       "\n",
       "    .dataframe thead th {\n",
       "        text-align: left;\n",
       "    }\n",
       "\n",
       "    .dataframe tbody tr th {\n",
       "        vertical-align: top;\n",
       "    }\n",
       "</style>\n",
       "<table border=\"1\" class=\"dataframe\">\n",
       "  <thead>\n",
       "    <tr style=\"text-align: right;\">\n",
       "      <th></th>\n",
       "      <th>close</th>\n",
       "      <th>high</th>\n",
       "      <th>low</th>\n",
       "      <th>open</th>\n",
       "      <th>volume</th>\n",
       "    </tr>\n",
       "    <tr>\n",
       "      <th>tstamp</th>\n",
       "      <th></th>\n",
       "      <th></th>\n",
       "      <th></th>\n",
       "      <th></th>\n",
       "      <th></th>\n",
       "    </tr>\n",
       "  </thead>\n",
       "  <tbody>\n",
       "    <tr>\n",
       "      <th>2014-05-27 15:40:00-04:00</th>\n",
       "      <td>563.50600</td>\n",
       "      <td>563.581</td>\n",
       "      <td>563.4000</td>\n",
       "      <td>563.45198</td>\n",
       "      <td>3560</td>\n",
       "    </tr>\n",
       "    <tr>\n",
       "      <th>2014-05-27 15:45:00-04:00</th>\n",
       "      <td>564.18200</td>\n",
       "      <td>564.248</td>\n",
       "      <td>563.9930</td>\n",
       "      <td>564.05598</td>\n",
       "      <td>10440</td>\n",
       "    </tr>\n",
       "    <tr>\n",
       "      <th>2014-05-27 15:50:00-04:00</th>\n",
       "      <td>565.08820</td>\n",
       "      <td>565.138</td>\n",
       "      <td>564.9432</td>\n",
       "      <td>565.00000</td>\n",
       "      <td>15600</td>\n",
       "    </tr>\n",
       "    <tr>\n",
       "      <th>2014-05-27 15:55:00-04:00</th>\n",
       "      <td>565.42902</td>\n",
       "      <td>565.534</td>\n",
       "      <td>565.1800</td>\n",
       "      <td>565.30900</td>\n",
       "      <td>23920</td>\n",
       "    </tr>\n",
       "    <tr>\n",
       "      <th>2014-05-27 16:00:00-04:00</th>\n",
       "      <td>565.95000</td>\n",
       "      <td>565.950</td>\n",
       "      <td>565.9500</td>\n",
       "      <td>565.95000</td>\n",
       "      <td>126000</td>\n",
       "    </tr>\n",
       "  </tbody>\n",
       "</table>\n",
       "</div>"
      ],
      "text/plain": [
       "                               close     high       low       open  volume\n",
       "tstamp                                                                    \n",
       "2014-05-27 15:40:00-04:00  563.50600  563.581  563.4000  563.45198    3560\n",
       "2014-05-27 15:45:00-04:00  564.18200  564.248  563.9930  564.05598   10440\n",
       "2014-05-27 15:50:00-04:00  565.08820  565.138  564.9432  565.00000   15600\n",
       "2014-05-27 15:55:00-04:00  565.42902  565.534  565.1800  565.30900   23920\n",
       "2014-05-27 16:00:00-04:00  565.95000  565.950  565.9500  565.95000  126000"
      ]
     },
     "execution_count": 22,
     "metadata": {},
     "output_type": "execute_result"
    }
   ],
   "source": [
    "googTickTS.resample('5Min', closed='left').mean().tail()"
   ]
  },
  {
   "cell_type": "code",
   "execution_count": 23,
   "metadata": {},
   "outputs": [
    {
     "data": {
      "text/html": [
       "<div>\n",
       "<style>\n",
       "    .dataframe thead tr:only-child th {\n",
       "        text-align: right;\n",
       "    }\n",
       "\n",
       "    .dataframe thead th {\n",
       "        text-align: left;\n",
       "    }\n",
       "\n",
       "    .dataframe tbody tr th {\n",
       "        vertical-align: top;\n",
       "    }\n",
       "</style>\n",
       "<table border=\"1\" class=\"dataframe\">\n",
       "  <thead>\n",
       "    <tr style=\"text-align: right;\">\n",
       "      <th></th>\n",
       "      <th>close</th>\n",
       "      <th>high</th>\n",
       "      <th>low</th>\n",
       "      <th>open</th>\n",
       "      <th>volume</th>\n",
       "    </tr>\n",
       "    <tr>\n",
       "      <th>tstamp</th>\n",
       "      <th></th>\n",
       "      <th></th>\n",
       "      <th></th>\n",
       "      <th></th>\n",
       "      <th></th>\n",
       "    </tr>\n",
       "  </thead>\n",
       "  <tbody>\n",
       "    <tr>\n",
       "      <th>2014-05-27 15:58:00-04:00</th>\n",
       "      <td>565.1101</td>\n",
       "      <td>565.31</td>\n",
       "      <td>565.10</td>\n",
       "      <td>565.31</td>\n",
       "      <td>23200</td>\n",
       "    </tr>\n",
       "    <tr>\n",
       "      <th>2014-05-27 15:58:30-04:00</th>\n",
       "      <td>565.1101</td>\n",
       "      <td>565.31</td>\n",
       "      <td>565.10</td>\n",
       "      <td>565.31</td>\n",
       "      <td>23200</td>\n",
       "    </tr>\n",
       "    <tr>\n",
       "      <th>2014-05-27 15:59:00-04:00</th>\n",
       "      <td>565.9400</td>\n",
       "      <td>566.00</td>\n",
       "      <td>565.08</td>\n",
       "      <td>565.23</td>\n",
       "      <td>55600</td>\n",
       "    </tr>\n",
       "    <tr>\n",
       "      <th>2014-05-27 15:59:30-04:00</th>\n",
       "      <td>565.9400</td>\n",
       "      <td>566.00</td>\n",
       "      <td>565.08</td>\n",
       "      <td>565.23</td>\n",
       "      <td>55600</td>\n",
       "    </tr>\n",
       "    <tr>\n",
       "      <th>2014-05-27 16:00:00-04:00</th>\n",
       "      <td>565.9500</td>\n",
       "      <td>565.95</td>\n",
       "      <td>565.95</td>\n",
       "      <td>565.95</td>\n",
       "      <td>126000</td>\n",
       "    </tr>\n",
       "  </tbody>\n",
       "</table>\n",
       "</div>"
      ],
      "text/plain": [
       "                              close    high     low    open  volume\n",
       "tstamp                                                             \n",
       "2014-05-27 15:58:00-04:00  565.1101  565.31  565.10  565.31   23200\n",
       "2014-05-27 15:58:30-04:00  565.1101  565.31  565.10  565.31   23200\n",
       "2014-05-27 15:59:00-04:00  565.9400  566.00  565.08  565.23   55600\n",
       "2014-05-27 15:59:30-04:00  565.9400  566.00  565.08  565.23   55600\n",
       "2014-05-27 16:00:00-04:00  565.9500  565.95  565.95  565.95  126000"
      ]
     },
     "execution_count": 23,
     "metadata": {},
     "output_type": "execute_result"
    }
   ],
   "source": [
    "googTickTS[-3:].resample('30s').ffill()"
   ]
  },
  {
   "cell_type": "code",
   "execution_count": 24,
   "metadata": {
    "collapsed": true
   },
   "outputs": [],
   "source": [
    "x = pd.Period('2014-06-11 11:00', 'H')\n",
    "y = pd.Period('2014-06-11 11:33', 'T')"
   ]
  },
  {
   "cell_type": "code",
   "execution_count": 25,
   "metadata": {},
   "outputs": [
    {
     "ename": "IncompatibleFrequency",
     "evalue": "Input has different freq=H from Period(freq=T)",
     "output_type": "error",
     "traceback": [
      "\u001b[1;31m---------------------------------------------------------------------------\u001b[0m",
      "\u001b[1;31mIncompatibleFrequency\u001b[0m                     Traceback (most recent call last)",
      "\u001b[1;32m<ipython-input-25-a8f00be4301b>\u001b[0m in \u001b[0;36m<module>\u001b[1;34m()\u001b[0m\n\u001b[1;32m----> 1\u001b[1;33m \u001b[0my\u001b[0m\u001b[1;33m-\u001b[0m\u001b[0mx\u001b[0m\u001b[1;33m\u001b[0m\u001b[0m\n\u001b[0m",
      "\u001b[1;32mpandas/_libs/period.pyx\u001b[0m in \u001b[0;36mpandas._libs.period._Period.__sub__ (pandas\\_libs\\period.c:14018)\u001b[1;34m()\u001b[0m\n",
      "\u001b[1;31mIncompatibleFrequency\u001b[0m: Input has different freq=H from Period(freq=T)"
     ]
    }
   ],
   "source": [
    "y-x"
   ]
  },
  {
   "cell_type": "code",
   "execution_count": 27,
   "metadata": {
    "collapsed": true
   },
   "outputs": [],
   "source": [
    "perRng=pd.period_range('2014-02-01','2014-02-06',freq='D')"
   ]
  },
  {
   "cell_type": "code",
   "execution_count": null,
   "metadata": {
    "collapsed": true
   },
   "outputs": [],
   "source": [
    "perRng"
   ]
  },
  {
   "cell_type": "code",
   "execution_count": null,
   "metadata": {
    "collapsed": true
   },
   "outputs": [],
   "source": [
    "X = np.linspace(-np.pi, np.pi, 256, endpoint=True)\n",
    "X"
   ]
  },
  {
   "cell_type": "code",
   "execution_count": null,
   "metadata": {
    "collapsed": true
   },
   "outputs": [],
   "source": [
    "f,g = np.cos(X)+np.sin(X), np.sin(X)-np.cos(X)"
   ]
  },
  {
   "cell_type": "code",
   "execution_count": null,
   "metadata": {
    "collapsed": true
   },
   "outputs": [],
   "source": [
    "f_ser=pd.Series(f)\n",
    "g_ser=pd.Series(g)"
   ]
  },
  {
   "cell_type": "code",
   "execution_count": null,
   "metadata": {
    "collapsed": true
   },
   "outputs": [],
   "source": [
    "plotDF=pd.concat([f_ser,g_ser],axis=1)\n",
    "plotDF.index=X\n",
    "plotDF.columns=['sin(x)+cos(x)','sin(x)-cos(x)']\n",
    "plotDF.head()"
   ]
  },
  {
   "cell_type": "code",
   "execution_count": null,
   "metadata": {
    "collapsed": true
   },
   "outputs": [],
   "source": [
    "plotDF.plot()"
   ]
  },
  {
   "cell_type": "code",
   "execution_count": null,
   "metadata": {
    "collapsed": true
   },
   "outputs": [],
   "source": [
    "plt.show()"
   ]
  },
  {
   "cell_type": "code",
   "execution_count": null,
   "metadata": {
    "collapsed": true
   },
   "outputs": [],
   "source": [
    "plotDF.plot(title='Plot of f(x)=sin(x)+cos(x), \\n g(x) =sin(x)-cos(x)')"
   ]
  },
  {
   "cell_type": "code",
   "execution_count": null,
   "metadata": {
    "collapsed": true
   },
   "outputs": [],
   "source": [
    "plt.show()"
   ]
  },
  {
   "cell_type": "code",
   "execution_count": null,
   "metadata": {
    "collapsed": true
   },
   "outputs": [],
   "source": [
    "import random         \n",
    "random.seed(100)         \n",
    "testScores = [random.randint(0,100) for p in range(0,20)] \n",
    "testScores"
   ]
  },
  {
   "cell_type": "code",
   "execution_count": null,
   "metadata": {
    "collapsed": true
   },
   "outputs": [],
   "source": [
    "sortedScores = np.sort(testScores)"
   ]
  },
  {
   "cell_type": "code",
   "execution_count": null,
   "metadata": {
    "collapsed": true
   },
   "outputs": [],
   "source": [
    "sortedScores"
   ]
  },
  {
   "cell_type": "code",
   "execution_count": null,
   "metadata": {
    "collapsed": true
   },
   "outputs": [],
   "source": [
    "rankedScores = {i+1: sortedScores[i] for i in range(len(sortedScores))}"
   ]
  },
  {
   "cell_type": "code",
   "execution_count": null,
   "metadata": {
    "collapsed": true,
    "scrolled": true
   },
   "outputs": [],
   "source": [
    "rankedScores"
   ]
  },
  {
   "cell_type": "code",
   "execution_count": 36,
   "metadata": {
    "collapsed": true
   },
   "outputs": [],
   "source": [
    "import scipy.stats as stats\n",
    "\n"
   ]
  },
  {
   "cell_type": "code",
   "execution_count": 38,
   "metadata": {},
   "outputs": [
    {
     "data": {
      "text/plain": [
       "0.99991158271479919"
      ]
     },
     "execution_count": 38,
     "metadata": {},
     "output_type": "execute_result"
    }
   ],
   "source": [
    "stats.norm.cdf(3.75) "
   ]
  },
  {
   "cell_type": "code",
   "execution_count": null,
   "metadata": {
    "collapsed": true
   },
   "outputs": [],
   "source": []
  }
 ],
 "metadata": {
  "kernelspec": {
   "display_name": "Python 3",
   "language": "python",
   "name": "python3"
  },
  "language_info": {
   "codemirror_mode": {
    "name": "ipython",
    "version": 3
   },
   "file_extension": ".py",
   "mimetype": "text/x-python",
   "name": "python",
   "nbconvert_exporter": "python",
   "pygments_lexer": "ipython3",
   "version": "3.6.3"
  }
 },
 "nbformat": 4,
 "nbformat_minor": 2
}
