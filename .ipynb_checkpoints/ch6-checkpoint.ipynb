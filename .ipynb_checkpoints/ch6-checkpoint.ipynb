{
 "cells": [
  {
   "cell_type": "code",
   "execution_count": 3,
   "metadata": {
    "collapsed": true
   },
   "outputs": [],
   "source": [
    "import numpy as np\n",
    "import pandas as pd\n",
    "import matplotlib.pyplot as plt"
   ]
  },
  {
   "cell_type": "code",
   "execution_count": 4,
   "metadata": {
    "collapsed": true
   },
   "outputs": [],
   "source": [
    "# %matplotlib inline"
   ]
  },
  {
   "cell_type": "code",
   "execution_count": 5,
   "metadata": {
    "collapsed": true
   },
   "outputs": [],
   "source": [
    "date_stngs = ['2014-05-01','2014-05-02',\n",
    "'2014-05-05','2014-05-06','2014-05-07']"
   ]
  },
  {
   "cell_type": "code",
   "execution_count": 6,
   "metadata": {},
   "outputs": [
    {
     "data": {
      "text/plain": [
       "DatetimeIndex(['2014-05-01', '2014-05-02', '2014-05-05', '2014-05-06',\n",
       "               '2014-05-07'],\n",
       "              dtype='datetime64[ns]', freq=None)"
      ]
     },
     "execution_count": 6,
     "metadata": {},
     "output_type": "execute_result"
    }
   ],
   "source": [
    "tradeDates = pd.to_datetime(date_stngs)\n",
    "tradeDates"
   ]
  },
  {
   "cell_type": "code",
   "execution_count": 7,
   "metadata": {},
   "outputs": [
    {
     "data": {
      "text/html": [
       "<div>\n",
       "<style>\n",
       "    .dataframe thead tr:only-child th {\n",
       "        text-align: right;\n",
       "    }\n",
       "\n",
       "    .dataframe thead th {\n",
       "        text-align: left;\n",
       "    }\n",
       "\n",
       "    .dataframe tbody tr th {\n",
       "        vertical-align: top;\n",
       "    }\n",
       "</style>\n",
       "<table border=\"1\" class=\"dataframe\">\n",
       "  <thead>\n",
       "    <tr style=\"text-align: right;\">\n",
       "      <th></th>\n",
       "      <th>closingPrices</th>\n",
       "    </tr>\n",
       "  </thead>\n",
       "  <tbody>\n",
       "    <tr>\n",
       "      <th>2014-05-01</th>\n",
       "      <td>531.35</td>\n",
       "    </tr>\n",
       "    <tr>\n",
       "      <th>2014-05-02</th>\n",
       "      <td>527.93</td>\n",
       "    </tr>\n",
       "    <tr>\n",
       "      <th>2014-05-05</th>\n",
       "      <td>527.81</td>\n",
       "    </tr>\n",
       "    <tr>\n",
       "      <th>2014-05-06</th>\n",
       "      <td>515.14</td>\n",
       "    </tr>\n",
       "    <tr>\n",
       "      <th>2014-05-07</th>\n",
       "      <td>509.96</td>\n",
       "    </tr>\n",
       "  </tbody>\n",
       "</table>\n",
       "</div>"
      ],
      "text/plain": [
       "            closingPrices\n",
       "2014-05-01         531.35\n",
       "2014-05-02         527.93\n",
       "2014-05-05         527.81\n",
       "2014-05-06         515.14\n",
       "2014-05-07         509.96"
      ]
     },
     "execution_count": 7,
     "metadata": {},
     "output_type": "execute_result"
    }
   ],
   "source": [
    "closingPrices=[531.35,527.93,527.81,515.14,509.96]\n",
    "googClosingPrices=pd.DataFrame(closingPrices,  columns=['closingPrices'], index=tradeDates)\n",
    "googClosingPrices"
   ]
  },
  {
   "cell_type": "code",
   "execution_count": 8,
   "metadata": {},
   "outputs": [
    {
     "data": {
      "text/html": [
       "<div>\n",
       "<style>\n",
       "    .dataframe thead tr:only-child th {\n",
       "        text-align: right;\n",
       "    }\n",
       "\n",
       "    .dataframe thead th {\n",
       "        text-align: left;\n",
       "    }\n",
       "\n",
       "    .dataframe tbody tr th {\n",
       "        vertical-align: top;\n",
       "    }\n",
       "</style>\n",
       "<table border=\"1\" class=\"dataframe\">\n",
       "  <thead>\n",
       "    <tr style=\"text-align: right;\">\n",
       "      <th></th>\n",
       "      <th>TradeDate</th>\n",
       "      <th>closingPrice</th>\n",
       "    </tr>\n",
       "  </thead>\n",
       "  <tbody>\n",
       "    <tr>\n",
       "      <th>0</th>\n",
       "      <td>1959-06-29</td>\n",
       "      <td>445</td>\n",
       "    </tr>\n",
       "    <tr>\n",
       "      <th>1</th>\n",
       "      <td>1959-06-30</td>\n",
       "      <td>448</td>\n",
       "    </tr>\n",
       "    <tr>\n",
       "      <th>2</th>\n",
       "      <td>1959-07-01</td>\n",
       "      <td>450</td>\n",
       "    </tr>\n",
       "    <tr>\n",
       "      <th>3</th>\n",
       "      <td>1959-07-02</td>\n",
       "      <td>447e</td>\n",
       "    </tr>\n",
       "    <tr>\n",
       "      <th>4</th>\n",
       "      <td>1959-07-06</td>\n",
       "      <td>451</td>\n",
       "    </tr>\n",
       "  </tbody>\n",
       "</table>\n",
       "</div>"
      ],
      "text/plain": [
       "    TradeDate closingPrice\n",
       "0  1959-06-29          445\n",
       "1  1959-06-30          448\n",
       "2  1959-07-01          450\n",
       "3  1959-07-02         447e\n",
       "4  1959-07-06          451"
      ]
     },
     "execution_count": 8,
     "metadata": {},
     "output_type": "execute_result"
    }
   ],
   "source": [
    "ibmData=pd.read_csv('./Files/ibm-common-stock-closing-prices-1959_1960.csv')\n",
    "ibmData.head()"
   ]
  },
  {
   "cell_type": "code",
   "execution_count": 9,
   "metadata": {},
   "outputs": [
    {
     "data": {
      "text/plain": [
       "str"
      ]
     },
     "execution_count": 9,
     "metadata": {},
     "output_type": "execute_result"
    }
   ],
   "source": [
    "type(ibmData['TradeDate'][0])"
   ]
  },
  {
   "cell_type": "code",
   "execution_count": 10,
   "metadata": {},
   "outputs": [
    {
     "data": {
      "text/plain": [
       "pandas._libs.tslib.Timestamp"
      ]
     },
     "execution_count": 10,
     "metadata": {},
     "output_type": "execute_result"
    }
   ],
   "source": [
    "ibmData['TradeDate']=pd.to_datetime(ibmData['TradeDate'])\n",
    "type(ibmData['TradeDate'][0])"
   ]
  },
  {
   "cell_type": "code",
   "execution_count": 11,
   "metadata": {
    "collapsed": true
   },
   "outputs": [],
   "source": [
    "ibmTS = ibmData.set_index('TradeDate')['closingPrice']"
   ]
  },
  {
   "cell_type": "code",
   "execution_count": 12,
   "metadata": {},
   "outputs": [
    {
     "data": {
      "text/plain": [
       "datetime.datetime(2014, 12, 25, 0, 0)"
      ]
     },
     "execution_count": 12,
     "metadata": {},
     "output_type": "execute_result"
    }
   ],
   "source": [
    "xmasDay=pd.datetime(2014,12,25)\n",
    "xmasDay"
   ]
  },
  {
   "cell_type": "code",
   "execution_count": 13,
   "metadata": {},
   "outputs": [
    {
     "data": {
      "text/plain": [
       "Timestamp('2014-12-24 00:00:00')"
      ]
     },
     "execution_count": 13,
     "metadata": {},
     "output_type": "execute_result"
    }
   ],
   "source": [
    "boxingDay=xmasDay+pd.DateOffset(days=-1)\n",
    "boxingDay"
   ]
  },
  {
   "cell_type": "code",
   "execution_count": 14,
   "metadata": {},
   "outputs": [
    {
     "data": {
      "text/plain": [
       "datetime.datetime(2017, 12, 20, 17, 54, 41, 390042)"
      ]
     },
     "execution_count": 14,
     "metadata": {},
     "output_type": "execute_result"
    }
   ],
   "source": [
    "today=pd.datetime.now()\n",
    "today"
   ]
  },
  {
   "cell_type": "code",
   "execution_count": 15,
   "metadata": {},
   "outputs": [
    {
     "data": {
      "text/plain": [
       "TradeDate\n",
       "1959-06-29     NaN\n",
       "1959-06-30     445\n",
       "1959-07-01     448\n",
       "1959-07-02     450\n",
       "1959-07-06    447e\n",
       "1959-07-07     451\n",
       "1959-07-08     453\n",
       "1959-07-09     454\n",
       "1959-07-10     454\n",
       "1959-07-13     459\n",
       "1959-07-14     440\n",
       "1959-07-15     446\n",
       "1959-07-16     443\n",
       "1959-07-17     443\n",
       "1959-07-20     440\n",
       "1959-07-21     439\n",
       "1959-07-22     435\n",
       "1959-07-23     435\n",
       "1959-07-24     436\n",
       "1959-07-27     435\n",
       "1959-07-28     435\n",
       "1959-07-29     435\n",
       "1959-07-30     433\n",
       "1959-07-31     429\n",
       "1959-08-03     428\n",
       "1959-08-04     425\n",
       "1959-08-05     427\n",
       "1959-08-06     425\n",
       "1959-08-07     422\n",
       "1959-08-10     409\n",
       "              ... \n",
       "1960-05-19     465\n",
       "1960-05-20     473\n",
       "1960-05-23     473\n",
       "1960-05-24     475\n",
       "1960-05-25     499\n",
       "1960-05-26     485\n",
       "1960-05-27     491\n",
       "1960-05-31     496\n",
       "1960-06-01     504\n",
       "1960-06-02     504\n",
       "1960-06-03     509\n",
       "1960-06-06     511\n",
       "1960-06-07     524\n",
       "1960-06-08     525\n",
       "1960-06-09     541\n",
       "1960-06-10     531\n",
       "1960-06-13     529\n",
       "1960-06-14     530\n",
       "1960-06-15     531\n",
       "1960-06-16     527\n",
       "1960-06-17     525\n",
       "1960-06-20     519\n",
       "1960-06-21     514\n",
       "1960-06-22     509\n",
       "1960-06-23     505\n",
       "1960-06-24     513\n",
       "1960-06-27     525\n",
       "1960-06-28     519\n",
       "1960-06-29     519\n",
       "1960-06-30     522\n",
       "Name: closingPrice, Length: 255, dtype: object"
      ]
     },
     "execution_count": 15,
     "metadata": {},
     "output_type": "execute_result"
    }
   ],
   "source": [
    "ibmTS.shift(1)"
   ]
  },
  {
   "cell_type": "code",
   "execution_count": null,
   "metadata": {
    "collapsed": true
   },
   "outputs": [],
   "source": []
  }
 ],
 "metadata": {
  "kernelspec": {
   "display_name": "Python 3",
   "language": "python",
   "name": "python3"
  },
  "language_info": {
   "codemirror_mode": {
    "name": "ipython",
    "version": 3
   },
   "file_extension": ".py",
   "mimetype": "text/x-python",
   "name": "python",
   "nbconvert_exporter": "python",
   "pygments_lexer": "ipython3",
   "version": "3.6.3"
  }
 },
 "nbformat": 4,
 "nbformat_minor": 2
}
